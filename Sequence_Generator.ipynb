{
 "cells": [
  {
   "cell_type": "markdown",
   "metadata": {},
   "source": [
    "# Pipleline Step 4: Generate data sequences to train the model with "
   ]
  },
  {
   "cell_type": "code",
   "execution_count": 4,
   "metadata": {
    "collapsed": true
   },
   "outputs": [],
   "source": [
    "import pandas as pd\n",
    "import numpy as np\n",
    "import glob\n",
    "import multiprocessing as mp\n",
    "import pickle\n",
    "np.set_printoptions(suppress=True)"
   ]
  },
  {
   "cell_type": "code",
   "execution_count": 5,
   "metadata": {
    "collapsed": true
   },
   "outputs": [],
   "source": [
    "merged = pd.read_pickle('merged.p')\n",
    "seq_length = 12"
   ]
  },
  {
   "cell_type": "code",
   "execution_count": 6,
   "metadata": {
    "collapsed": true
   },
   "outputs": [],
   "source": [
    "# Create 12 month sequences of production values for a given well, identified by PWT ID. \n",
    "# Given the production values of the past 12 months in these sequences, the model will predict the next month's value. \n",
    "def create_sequence(PWT):\n",
    "    temp = merged['PWT__ID' == PWT]\n",
    "    temp['ProductionDate'] = pd.to_datetime(temp['ProductionDate'])\n",
    "    temp.sort_values('ProductionDate', inplace=True)\n",
    "    l = temp[temp['PWT__ID'] == PWT]['OilorCondensateProduced'].tolist() # for each PWT ID get list of oil production\n",
    "    if len(l) < 100:\n",
    "        return\n",
    "    m = len(l)\n",
    "    xx, yy = [], []\n",
    "    for i in range(m-(seq_length+1)):  #create sequences\n",
    "        x_i = l[i:i+seq_length]\n",
    "        y_i = l[i+seq_length]\n",
    "        if np.sum(np.isnan(x_i)) > 0 or np.sum(np.isnan(y_i)) > 0 or (np.count_nonzero(x_i) < seq_length) or (np.count_nonzero(y_i) == 0):\n",
    "            continue\n",
    "        xx.append(x_i)\n",
    "        yy.append(y_i)\n",
    "    return np.array(xx), np.array(yy)"
   ]
  },
  {
   "cell_type": "code",
   "execution_count": null,
   "metadata": {
    "collapsed": true
   },
   "outputs": [],
   "source": [
    "# Use pooling to speed up the process. \n",
    "pool = mp.Pool(8)\n",
    "PWTs = merged['PWT__ID'].unique()\n",
    "dfs = [pool.apply_async(create_sequence, args=(PWT, )) for PWT in PWTs]\n",
    "pool.close()\n",
    "pool.join()"
   ]
  },
  {
   "cell_type": "code",
   "execution_count": null,
   "metadata": {
    "collapsed": true
   },
   "outputs": [],
   "source": [
    "X = []\n",
    "y = []\n",
    "for p in dfs:\n",
    "    try:\n",
    "        x1, y1 = p.get()\n",
    "        x1 = x1.reshape(x1.shape[0], x1.shape[1], 1)\n",
    "        y1 = y1.reshape(y1.shape[0], 1)\n",
    "        X.append(x1)\n",
    "        y.append(y1)\n",
    "    except:\n",
    "        pass"
   ]
  },
  {
   "cell_type": "code",
   "execution_count": null,
   "metadata": {
    "collapsed": true
   },
   "outputs": [],
   "source": [
    "X_all = np.vstack(X)\n",
    "y_all = np.vstack(y)\n",
    "print(X_all.shape)\n",
    "print(y_all.shape)"
   ]
  },
  {
   "cell_type": "code",
   "execution_count": null,
   "metadata": {
    "collapsed": true
   },
   "outputs": [],
   "source": [
    "np.save('x_complete', x_all)\n",
    "np.save('y_complete', y_all)"
   ]
  }
 ],
 "metadata": {
  "kernelspec": {
   "display_name": "Python 2",
   "language": "python",
   "name": "python2"
  },
  "language_info": {
   "codemirror_mode": {
    "name": "ipython",
    "version": 2
   },
   "file_extension": ".py",
   "mimetype": "text/x-python",
   "name": "python",
   "nbconvert_exporter": "python",
   "pygments_lexer": "ipython2",
   "version": "2.7.13"
  }
 },
 "nbformat": 4,
 "nbformat_minor": 2
}
