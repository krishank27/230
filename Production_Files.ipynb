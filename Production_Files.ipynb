{
 "cells": [
  {
   "cell_type": "markdown",
   "metadata": {},
   "source": [
    "# Pipeline Step 1: Importing the production data"
   ]
  },
  {
   "cell_type": "code",
   "execution_count": 1,
   "metadata": {},
   "outputs": [
    {
     "name": "stdout",
     "output_type": "stream",
     "text": [
      "/Users/krishankumar/Documents/csv/1977CaliforniaOilandGasWellProduction.csv\n",
      "/Users/krishankumar/Documents/csv/1978CaliforniaOilandGasWellProduction.csv\n",
      "/Users/krishankumar/Documents/csv/1979CaliforniaOilandGasWellProduction.csv\n",
      "/Users/krishankumar/Documents/csv/1980CaliforniaOilandGasWellProduction.csv\n",
      "/Users/krishankumar/Documents/csv/1981CaliforniaOilandGasWellProduction.csv\n",
      "/Users/krishankumar/Documents/csv/1982CaliforniaOilandGasWellProduction.csv\n",
      "/Users/krishankumar/Documents/csv/1983CaliforniaOilandGasWellProduction.csv\n",
      "/Users/krishankumar/Documents/csv/1984CaliforniaOilandGasWellProduction.csv\n",
      "/Users/krishankumar/Documents/csv/1985CaliforniaOilandGasWellProduction.csv\n",
      "/Users/krishankumar/Documents/csv/1986CaliforniaOilandGasWellProduction.csv\n",
      "/Users/krishankumar/Documents/csv/1987CaliforniaOilandGasWellProduction.csv\n",
      "/Users/krishankumar/Documents/csv/1988CaliforniaOilandGasWellProduction.csv\n",
      "/Users/krishankumar/Documents/csv/1989CaliforniaOilandGasWellProduction.csv\n",
      "/Users/krishankumar/Documents/csv/1990CaliforniaOilandGasWellProduction.csv\n",
      "/Users/krishankumar/Documents/csv/1991CaliforniaOilandGasWellProduction.csv\n",
      "/Users/krishankumar/Documents/csv/1992CaliforniaOilandGasWellProduction.csv\n",
      "/Users/krishankumar/Documents/csv/1993CaliforniaOilandGasWellProduction.csv\n",
      "/Users/krishankumar/Documents/csv/1994CaliforniaOilandGasWellProduction.csv\n",
      "/Users/krishankumar/Documents/csv/1995CaliforniaOilandGasWellProduction.csv\n",
      "/Users/krishankumar/Documents/csv/1996CaliforniaOilandGasWellProduction.csv\n",
      "/Users/krishankumar/Documents/csv/1997CaliforniaOilandGasWellProduction.csv\n",
      "/Users/krishankumar/Documents/csv/1998CaliforniaOilandGasWellProduction.csv\n",
      "/Users/krishankumar/Documents/csv/1999CaliforniaOilandGasWellProduction.csv\n",
      "/Users/krishankumar/Documents/csv/2000CaliforniaOilandGasWellProduction.csv\n",
      "/Users/krishankumar/Documents/csv/2001CaliforniaOilandGasWellProduction.csv\n",
      "/Users/krishankumar/Documents/csv/2002CaliforniaOilandGasWellProduction.csv\n",
      "/Users/krishankumar/Documents/csv/2003CaliforniaOilandGasWellProduction.csv\n",
      "/Users/krishankumar/Documents/csv/2004CaliforniaOilandGasWellProduction.csv\n",
      "/Users/krishankumar/Documents/csv/2005CaliforniaOilandGasWellProduction.csv\n",
      "/Users/krishankumar/Documents/csv/2006CaliforniaOilandGasWellProduction.csv\n",
      "/Users/krishankumar/Documents/csv/2008CaliforniaOilandGasWellProduction.csv\n",
      "/Users/krishankumar/Documents/csv/2009CaliforniaOilandGasWellProduction.csv\n",
      "/Users/krishankumar/Documents/csv/2010CaliforniaOilandGasWellProduction.csv\n",
      "/Users/krishankumar/Documents/csv/2011CaliforniaOilandGasWellProduction.csv\n",
      "/Users/krishankumar/Documents/csv/2012CaliforniaOilandGasWellProduction.csv\n",
      "/Users/krishankumar/Documents/csv/2013CaliforniaOilandGasWellProduction.csv\n",
      "/Users/krishankumar/Documents/csv/2014CaliforniaOilandGasWellProduction.csv\n",
      "/Users/krishankumar/Documents/csv/2015CaliforniaOilandGasWellProduction.csv\n",
      "/Users/krishankumar/Documents/csv/2016CaliforniaOilandGasWellProduction.csv\n",
      "/Users/krishankumar/Documents/csv/2017CaliforniaOilandGasWellProduction.csv\n"
     ]
    }
   ],
   "source": [
    "# Import the CSVs where the production data is and combine into a single dataframe. \n",
    "# Ignore the 2007 file, the database it comes from is broken. \n",
    "import pandas as pd \n",
    "import glob\n",
    "import matplotlib.pyplot as plt\n",
    "%matplotlib inline\n",
    "\n",
    "path ='/Users/krishankumar/Documents/csv' \n",
    "allFiles = glob.glob(path + \"/*Production.csv\")\n",
    "\n",
    "df = []\n",
    "\n",
    "for f in allFiles:\n",
    "    if '2007' in f:\n",
    "        continue\n",
    "    print(f)\n",
    "    df.append(pd.read_csv(f))"
   ]
  },
  {
   "cell_type": "code",
   "execution_count": 2,
   "metadata": {
    "collapsed": true
   },
   "outputs": [],
   "source": [
    "dfall = pd.concat(df)"
   ]
  },
  {
   "cell_type": "code",
   "execution_count": 3,
   "metadata": {},
   "outputs": [
    {
     "name": "stdout",
     "output_type": "stream",
     "text": [
      "<class 'pandas.core.frame.DataFrame'>\n",
      "Int64Index: 35385878 entries, 0 to 232746\n",
      "Data columns (total 14 columns):\n",
      "ProductionDate             object\n",
      "ProductionStatus           float64\n",
      "CasingPressure             float64\n",
      "TubingPressure             float64\n",
      "BTUofGasProduced           float64\n",
      "MethodOfOperation          float64\n",
      "APIGravityOfOil            float64\n",
      "WaterDisposition           float64\n",
      "OilorCondensateProduced    float64\n",
      "DaysProducing              float64\n",
      "GasProduced(MCF)           float64\n",
      "WaterProduced(BBL)         float64\n",
      "MissingDataCode            object\n",
      "PWT__ID                    int64\n",
      "dtypes: float64(11), int64(1), object(2)\n",
      "memory usage: 4.0+ GB\n"
     ]
    }
   ],
   "source": [
    "dfall.info()"
   ]
  },
  {
   "cell_type": "code",
   "execution_count": 4,
   "metadata": {
    "collapsed": true
   },
   "outputs": [],
   "source": [
    "# Pull the relevant columns from the table - PWT_ID to identify the well, the oil production value, \n",
    "# and the corresponding month. \n",
    "temp = dfall[['PWT__ID', 'OilorCondensateProduced', 'ProductionDate']]"
   ]
  },
  {
   "cell_type": "code",
   "execution_count": 5,
   "metadata": {},
   "outputs": [
    {
     "name": "stdout",
     "output_type": "stream",
     "text": [
      "<class 'pandas.core.frame.DataFrame'>\n",
      "Int64Index: 35385878 entries, 0 to 232746\n",
      "Data columns (total 3 columns):\n",
      "PWT__ID                    int64\n",
      "OilorCondensateProduced    float64\n",
      "ProductionDate             object\n",
      "dtypes: float64(1), int64(1), object(1)\n",
      "memory usage: 1.1+ GB\n"
     ]
    }
   ],
   "source": [
    "temp.info()"
   ]
  },
  {
   "cell_type": "code",
   "execution_count": 6,
   "metadata": {
    "collapsed": true
   },
   "outputs": [],
   "source": [
    "temp.to_csv('production.csv')"
   ]
  }
 ],
 "metadata": {
  "kernelspec": {
   "display_name": "Python 2",
   "language": "python",
   "name": "python2"
  },
  "language_info": {
   "codemirror_mode": {
    "name": "ipython",
    "version": 2
   },
   "file_extension": ".py",
   "mimetype": "text/x-python",
   "name": "python",
   "nbconvert_exporter": "python",
   "pygments_lexer": "ipython2",
   "version": "2.7.13"
  }
 },
 "nbformat": 4,
 "nbformat_minor": 2
}
